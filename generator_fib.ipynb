{
 "cells": [
  {
   "cell_type": "code",
   "execution_count": 2,
   "id": "coordinate-spectrum",
   "metadata": {},
   "outputs": [],
   "source": [
    "def fibver1(max_count):\n",
    "    x, y, count = 1, 1, 0\n",
    "    while True:\n",
    "        if count >= max_count:\n",
    "            break\n",
    "        yield x\n",
    "        x, y = y, x+y\n",
    "        count += 1"
   ]
  },
  {
   "cell_type": "code",
   "execution_count": 4,
   "id": "egyptian-aerospace",
   "metadata": {},
   "outputs": [
    {
     "name": "stdout",
     "output_type": "stream",
     "text": [
      "1 1 2 3 5 8 13 21 34 55 "
     ]
    }
   ],
   "source": [
    "for x in fibver1(10):\n",
    "    print(x, end=' ')"
   ]
  },
  {
   "cell_type": "code",
   "execution_count": 6,
   "id": "mighty-musical",
   "metadata": {},
   "outputs": [
    {
     "data": {
      "text/plain": [
       "(1, 1, 2, 3, 5, 8, 13, 21, 34, 55)"
      ]
     },
     "execution_count": 6,
     "metadata": {},
     "output_type": "execute_result"
    }
   ],
   "source": [
    "tuple(fibver1(10))"
   ]
  },
  {
   "cell_type": "code",
   "execution_count": 7,
   "id": "golden-contamination",
   "metadata": {},
   "outputs": [
    {
     "data": {
      "text/plain": [
       "(1, 1, 2, 3, 5, 8, 13, 21, 34, 55)"
      ]
     },
     "execution_count": 7,
     "metadata": {},
     "output_type": "execute_result"
    }
   ],
   "source": [
    "tuple(fibver1(10))"
   ]
  },
  {
   "cell_type": "code",
   "execution_count": 8,
   "id": "representative-subsection",
   "metadata": {},
   "outputs": [],
   "source": [
    "def fibver2():\n",
    "    x, y = 1, 1\n",
    "    while True:\n",
    "        yield x\n",
    "        x, y = y, x + y"
   ]
  },
  {
   "cell_type": "code",
   "execution_count": 9,
   "id": "major-cleanup",
   "metadata": {},
   "outputs": [
    {
     "name": "stdout",
     "output_type": "stream",
     "text": [
      "1 1 2 3 5 8 13 21 34 55 "
     ]
    }
   ],
   "source": [
    "count = 0\n",
    "for x in fibver2():\n",
    "    print(x, end=' ')\n",
    "    count += 1\n",
    "    if count >= 10:\n",
    "        break"
   ]
  },
  {
   "cell_type": "code",
   "execution_count": 28,
   "id": "cardiac-belle",
   "metadata": {},
   "outputs": [],
   "source": [
    "fibver2_generator = fibver2()"
   ]
  },
  {
   "cell_type": "code",
   "execution_count": 29,
   "id": "biological-engine",
   "metadata": {},
   "outputs": [],
   "source": [
    "from itertools import islice"
   ]
  },
  {
   "cell_type": "code",
   "execution_count": 30,
   "id": "sophisticated-novel",
   "metadata": {},
   "outputs": [
    {
     "name": "stdout",
     "output_type": "stream",
     "text": [
      "1 1 2 3 5 8 13 21 34 55 "
     ]
    }
   ],
   "source": [
    "count = 0\n",
    "for x in islice(fibver2_generator, 10):\n",
    "    print(x, end=' ')\n",
    "    count += 1\n",
    "    if count >= 10:\n",
    "        break"
   ]
  },
  {
   "cell_type": "code",
   "execution_count": 26,
   "id": "artificial-minimum",
   "metadata": {},
   "outputs": [],
   "source": [
    "islice?"
   ]
  },
  {
   "cell_type": "code",
   "execution_count": 31,
   "id": "directed-robinson",
   "metadata": {},
   "outputs": [
    {
     "data": {
      "text/plain": [
       "(89, 144, 233, 377, 610, 987, 1597, 2584, 4181, 6765)"
      ]
     },
     "execution_count": 31,
     "metadata": {},
     "output_type": "execute_result"
    }
   ],
   "source": [
    "tuple(islice(fibver2_generator, 10))"
   ]
  },
  {
   "cell_type": "code",
   "execution_count": 32,
   "id": "moving-privacy",
   "metadata": {},
   "outputs": [
    {
     "data": {
      "text/plain": [
       "(10946, 17711, 28657, 46368, 75025, 121393, 196418, 317811, 514229, 832040)"
      ]
     },
     "execution_count": 32,
     "metadata": {},
     "output_type": "execute_result"
    }
   ],
   "source": [
    "tuple(islice(fibver2_generator, 10))"
   ]
  },
  {
   "cell_type": "code",
   "execution_count": null,
   "id": "separated-rouge",
   "metadata": {},
   "outputs": [],
   "source": []
  }
 ],
 "metadata": {
  "kernelspec": {
   "display_name": "kyungjun_dev",
   "language": "python",
   "name": "kyungjun_dev"
  },
  "language_info": {
   "codemirror_mode": {
    "name": "ipython",
    "version": 3
   },
   "file_extension": ".py",
   "mimetype": "text/x-python",
   "name": "python",
   "nbconvert_exporter": "python",
   "pygments_lexer": "ipython3",
   "version": "3.8.7"
  }
 },
 "nbformat": 4,
 "nbformat_minor": 5
}
