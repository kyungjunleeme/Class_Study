{
 "cells": [
  {
   "cell_type": "code",
   "execution_count": 1,
   "id": "constant-accuracy",
   "metadata": {},
   "outputs": [],
   "source": [
    "import json"
   ]
  },
  {
   "cell_type": "code",
   "execution_count": 2,
   "id": "limiting-arkansas",
   "metadata": {},
   "outputs": [
    {
     "data": {
      "text/plain": [
       "'\"\\\\ud55c\\\\uae00\"'"
      ]
     },
     "execution_count": 2,
     "metadata": {},
     "output_type": "execute_result"
    }
   ],
   "source": [
    "json.dumps('한글') # unicode 값"
   ]
  },
  {
   "cell_type": "code",
   "execution_count": 3,
   "id": "comfortable-smoke",
   "metadata": {},
   "outputs": [
    {
     "data": {
      "text/plain": [
       "'\"한글\"'"
      ]
     },
     "execution_count": 3,
     "metadata": {},
     "output_type": "execute_result"
    }
   ],
   "source": [
    "# If ensure_ascii is true (the default), the output is guaranteed \n",
    "# to have all incoming non-ASCII characters escaped. \n",
    "#If ensure_ascii is false, these characters will be output as-is.\n",
    "\n",
    "json.dumps('한글', ensure_ascii=False) "
   ]
  },
  {
   "cell_type": "code",
   "execution_count": 8,
   "id": "bottom-midwest",
   "metadata": {},
   "outputs": [
    {
     "data": {
      "text/plain": [
       "54620"
      ]
     },
     "execution_count": 8,
     "metadata": {},
     "output_type": "execute_result"
    }
   ],
   "source": [
    "# Signature: ord(c, /)\n",
    "# Docstring: Return the Unicode code point for a one-character string.\n",
    "# Type:      builtin_function_or_method\n",
    "ord('한')"
   ]
  },
  {
   "cell_type": "code",
   "execution_count": 5,
   "id": "distributed-supply",
   "metadata": {},
   "outputs": [
    {
     "data": {
      "text/plain": [
       "'D55C'"
      ]
     },
     "execution_count": 5,
     "metadata": {},
     "output_type": "execute_result"
    }
   ],
   "source": [
    "'%X' % ord('한') # 16진수로 변환"
   ]
  },
  {
   "cell_type": "code",
   "execution_count": 6,
   "id": "split-sitting",
   "metadata": {},
   "outputs": [
    {
     "data": {
      "text/plain": [
       "'AE00'"
      ]
     },
     "execution_count": 6,
     "metadata": {},
     "output_type": "execute_result"
    }
   ],
   "source": [
    "'%X' % ord('글') # 16진수로 변환"
   ]
  },
  {
   "cell_type": "code",
   "execution_count": 9,
   "id": "fossil-trouble",
   "metadata": {},
   "outputs": [
    {
     "data": {
      "text/plain": [
       "b'\"\\xed\\x95\\x9c\\xea\\xb8\\x80\"'"
      ]
     },
     "execution_count": 9,
     "metadata": {},
     "output_type": "execute_result"
    }
   ],
   "source": [
    "json.dumps('한글', ensure_ascii=False).encode('utf8') # uf8과 같은 encoding으로 변환해서 줌!"
   ]
  },
  {
   "cell_type": "code",
   "execution_count": null,
   "id": "million-darkness",
   "metadata": {},
   "outputs": [],
   "source": []
  }
 ],
 "metadata": {
  "kernelspec": {
   "display_name": "Python 3",
   "language": "python",
   "name": "python3"
  },
  "language_info": {
   "codemirror_mode": {
    "name": "ipython",
    "version": 3
   },
   "file_extension": ".py",
   "mimetype": "text/x-python",
   "name": "python",
   "nbconvert_exporter": "python",
   "pygments_lexer": "ipython3",
   "version": "3.8.7"
  }
 },
 "nbformat": 4,
 "nbformat_minor": 5
}
