{
 "cells": [
  {
   "cell_type": "code",
   "execution_count": 5,
   "id": "blocked-girlfriend",
   "metadata": {},
   "outputs": [],
   "source": [
    "class Person:\n",
    "    def __init__(self, name, age, foods):\n",
    "        self.name = name\n",
    "        self.age = age\n",
    "        self.foods = foods\n",
    "        \n",
    "    def __getitem__(self, key):\n",
    "        return self.foods[key]\n",
    "    \n",
    "    def __setitem__(self, key, value):\n",
    "        self.foods[key] = value"
   ]
  },
  {
   "cell_type": "code",
   "execution_count": 6,
   "id": "interim-tribe",
   "metadata": {},
   "outputs": [],
   "source": [
    "foods = ['사과', '피자', '치킨', '우유', '바나나']"
   ]
  },
  {
   "cell_type": "code",
   "execution_count": 7,
   "id": "resistant-rings",
   "metadata": {},
   "outputs": [],
   "source": [
    "tom = Person('Tom', 10, foods)"
   ]
  },
  {
   "cell_type": "code",
   "execution_count": 8,
   "id": "impressive-alexander",
   "metadata": {},
   "outputs": [
    {
     "name": "stdout",
     "output_type": "stream",
     "text": [
      "우유\n"
     ]
    }
   ],
   "source": [
    "print(tom[3])"
   ]
  },
  {
   "cell_type": "code",
   "execution_count": 9,
   "id": "minus-compiler",
   "metadata": {},
   "outputs": [],
   "source": [
    "tom[3] = \"초코우유\""
   ]
  },
  {
   "cell_type": "code",
   "execution_count": 10,
   "id": "fancy-evaluation",
   "metadata": {},
   "outputs": [
    {
     "name": "stdout",
     "output_type": "stream",
     "text": [
      "초코우유\n"
     ]
    }
   ],
   "source": [
    "print(tom[3])"
   ]
  },
  {
   "cell_type": "code",
   "execution_count": 11,
   "id": "beautiful-brunei",
   "metadata": {},
   "outputs": [
    {
     "name": "stdout",
     "output_type": "stream",
     "text": [
      "['사과', '피자', '치킨', '초코우유', '바나나']\n"
     ]
    }
   ],
   "source": [
    "print(tom.foods)"
   ]
  },
  {
   "cell_type": "code",
   "execution_count": 61,
   "id": "rolled-meeting",
   "metadata": {},
   "outputs": [],
   "source": [
    "class Person2:\n",
    "    def __init__(self, name, age):\n",
    "        self.name = name\n",
    "        self.age = age\n",
    "        \n",
    "    def __add__(self, value):\n",
    "        return Person2(self.name, self.age + value)\n",
    "    \n",
    "    def __iadd__(self, value):\n",
    "        self.age += value\n",
    "        return self\n",
    "    \n",
    "    def __repr__(self):\n",
    "        return \"Person('{}', '{}')\".format(self.name, self.age)"
   ]
  },
  {
   "cell_type": "code",
   "execution_count": 62,
   "id": "major-steal",
   "metadata": {},
   "outputs": [],
   "source": [
    "tom = Person2('Tom', 10)"
   ]
  },
  {
   "cell_type": "code",
   "execution_count": 63,
   "id": "classical-madagascar",
   "metadata": {},
   "outputs": [
    {
     "data": {
      "text/plain": [
       "Person('Tom', '20')"
      ]
     },
     "execution_count": 63,
     "metadata": {},
     "output_type": "execute_result"
    }
   ],
   "source": [
    "tom + 10"
   ]
  },
  {
   "cell_type": "code",
   "execution_count": 64,
   "id": "acknowledged-thousand",
   "metadata": {},
   "outputs": [],
   "source": [
    "tom += 20"
   ]
  },
  {
   "cell_type": "code",
   "execution_count": 65,
   "id": "mathematical-rocket",
   "metadata": {},
   "outputs": [
    {
     "data": {
      "text/plain": [
       "Person('Tom', '30')"
      ]
     },
     "execution_count": 65,
     "metadata": {},
     "output_type": "execute_result"
    }
   ],
   "source": [
    "tom"
   ]
  },
  {
   "cell_type": "code",
   "execution_count": null,
   "id": "generous-greenhouse",
   "metadata": {},
   "outputs": [],
   "source": []
  }
 ],
 "metadata": {
  "kernelspec": {
   "display_name": "Python 3",
   "language": "python",
   "name": "python3"
  },
  "language_info": {
   "codemirror_mode": {
    "name": "ipython",
    "version": 3
   },
   "file_extension": ".py",
   "mimetype": "text/x-python",
   "name": "python",
   "nbconvert_exporter": "python",
   "pygments_lexer": "ipython3",
   "version": "3.8.7"
  }
 },
 "nbformat": 4,
 "nbformat_minor": 5
}
