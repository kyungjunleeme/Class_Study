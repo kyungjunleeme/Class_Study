{
 "cells": [
  {
   "cell_type": "code",
   "execution_count": 1,
   "id": "boolean-affiliation",
   "metadata": {},
   "outputs": [],
   "source": [
    "class Bill():\n",
    "    def __init__(self, description):\n",
    "        self.description = description"
   ]
  },
  {
   "cell_type": "code",
   "execution_count": 2,
   "id": "uniform-season",
   "metadata": {},
   "outputs": [],
   "source": [
    "class Tail():\n",
    "    def __init__(self, length):\n",
    "        self.length = length"
   ]
  },
  {
   "cell_type": "code",
   "execution_count": 3,
   "id": "engaged-diversity",
   "metadata": {},
   "outputs": [],
   "source": [
    "class Duck():\n",
    "    def __init__(self, bill, tail):\n",
    "        self.bill = bill\n",
    "        self.tail = tail\n",
    "    def about(self):\n",
    "        print('This duck has a', self.bill.description, 'bill and a', self.tail.length, 'tail')"
   ]
  },
  {
   "cell_type": "code",
   "execution_count": 4,
   "id": "single-tender",
   "metadata": {},
   "outputs": [],
   "source": [
    "tail = Tail('long')"
   ]
  },
  {
   "cell_type": "code",
   "execution_count": 6,
   "id": "minimal-washer",
   "metadata": {},
   "outputs": [],
   "source": [
    "bill = Bill('wide orange')"
   ]
  },
  {
   "cell_type": "code",
   "execution_count": 7,
   "id": "taken-digest",
   "metadata": {},
   "outputs": [],
   "source": [
    "duck = Duck(bill, tail)"
   ]
  },
  {
   "cell_type": "code",
   "execution_count": 8,
   "id": "aggregate-sarah",
   "metadata": {},
   "outputs": [
    {
     "name": "stdout",
     "output_type": "stream",
     "text": [
      "This duck has a wide orange bill and a long tail\n"
     ]
    }
   ],
   "source": [
    "duck.about()"
   ]
  },
  {
   "cell_type": "code",
   "execution_count": 9,
   "id": "ordered-porcelain",
   "metadata": {},
   "outputs": [],
   "source": [
    "from collections import namedtuple"
   ]
  },
  {
   "cell_type": "code",
   "execution_count": 18,
   "id": "periodic-input",
   "metadata": {},
   "outputs": [],
   "source": [
    "Duck = namedtuple('Duck', ['bill', 'tail']) # option1"
   ]
  },
  {
   "cell_type": "code",
   "execution_count": 25,
   "id": "prescribed-assault",
   "metadata": {},
   "outputs": [],
   "source": [
    "Duck = namedtuple('Duck', 'bill tail') # option2"
   ]
  },
  {
   "cell_type": "code",
   "execution_count": 26,
   "id": "creative-movie",
   "metadata": {},
   "outputs": [],
   "source": [
    "Duck = namedtuple('Duck', 'bill,tail') # option2"
   ]
  },
  {
   "cell_type": "code",
   "execution_count": 27,
   "id": "owned-belief",
   "metadata": {},
   "outputs": [],
   "source": [
    "duck = Duck('wide oriange', 'long')"
   ]
  },
  {
   "cell_type": "code",
   "execution_count": 28,
   "id": "latin-bicycle",
   "metadata": {},
   "outputs": [
    {
     "data": {
      "text/plain": [
       "Duck(bill='wide oriange', tail='long')"
      ]
     },
     "execution_count": 28,
     "metadata": {},
     "output_type": "execute_result"
    }
   ],
   "source": [
    "duck"
   ]
  },
  {
   "cell_type": "code",
   "execution_count": 33,
   "id": "extraordinary-agency",
   "metadata": {},
   "outputs": [
    {
     "data": {
      "text/plain": [
       "'wide oriange'"
      ]
     },
     "execution_count": 33,
     "metadata": {},
     "output_type": "execute_result"
    }
   ],
   "source": [
    "duck[0] # index로 접근해야함. key 값으로 접근 불가"
   ]
  },
  {
   "cell_type": "code",
   "execution_count": null,
   "id": "productive-school",
   "metadata": {},
   "outputs": [],
   "source": []
  }
 ],
 "metadata": {
  "kernelspec": {
   "display_name": "Python 3",
   "language": "python",
   "name": "python3"
  },
  "language_info": {
   "codemirror_mode": {
    "name": "ipython",
    "version": 3
   },
   "file_extension": ".py",
   "mimetype": "text/x-python",
   "name": "python",
   "nbconvert_exporter": "python",
   "pygments_lexer": "ipython3",
   "version": "3.8.7"
  }
 },
 "nbformat": 4,
 "nbformat_minor": 5
}
