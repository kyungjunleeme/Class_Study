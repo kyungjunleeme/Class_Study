{
 "cells": [
  {
   "cell_type": "markdown",
   "id": "covered-rings",
   "metadata": {},
   "source": [
    "## inner_func 뒤에 () 이 있는 경우"
   ]
  },
  {
   "cell_type": "code",
   "execution_count": null,
   "id": "hollywood-diabetes",
   "metadata": {},
   "outputs": [],
   "source": [
    "def outer_func():\n",
    "    message = 'Hi'\n",
    "    \n",
    "    def inner_func():\n",
    "        print(message)\n",
    "        \n",
    "    return inner_func()"
   ]
  },
  {
   "cell_type": "code",
   "execution_count": 6,
   "id": "starting-ottawa",
   "metadata": {},
   "outputs": [
    {
     "name": "stdout",
     "output_type": "stream",
     "text": [
      "Hi\n"
     ]
    }
   ],
   "source": [
    "outer_func()"
   ]
  },
  {
   "cell_type": "markdown",
   "id": "assigned-avatar",
   "metadata": {},
   "source": [
    "## inner_func 뒤에 () 이 없는 경우"
   ]
  },
  {
   "cell_type": "code",
   "execution_count": 7,
   "id": "split-zimbabwe",
   "metadata": {},
   "outputs": [],
   "source": [
    "def outer_func():\n",
    "    message = 'Hi'\n",
    "    \n",
    "    def inner_func():\n",
    "        print(message)\n",
    "        \n",
    "    return inner_func\n",
    "\n",
    "my_func = outer_func()"
   ]
  },
  {
   "cell_type": "code",
   "execution_count": 8,
   "id": "continental-fundamentals",
   "metadata": {},
   "outputs": [
    {
     "data": {
      "text/plain": [
       "<function __main__.outer_func.<locals>.inner_func()>"
      ]
     },
     "execution_count": 8,
     "metadata": {},
     "output_type": "execute_result"
    }
   ],
   "source": [
    "my_func"
   ]
  },
  {
   "cell_type": "code",
   "execution_count": 9,
   "id": "japanese-startup",
   "metadata": {},
   "outputs": [
    {
     "data": {
      "text/plain": [
       "'inner_func'"
      ]
     },
     "execution_count": 9,
     "metadata": {},
     "output_type": "execute_result"
    }
   ],
   "source": [
    "my_func.__name__"
   ]
  },
  {
   "cell_type": "markdown",
   "id": "selective-darwin",
   "metadata": {},
   "source": [
    "## 재정의"
   ]
  },
  {
   "cell_type": "code",
   "execution_count": 10,
   "id": "cutting-brush",
   "metadata": {},
   "outputs": [],
   "source": [
    "def outer_func(msg):\n",
    "    message = msg\n",
    "    \n",
    "    def inner_func():\n",
    "        print(message)\n",
    "        # a closure closes over the free variables from their environment and in this case message would be free variable\n",
    "        \n",
    "    return inner_func"
   ]
  },
  {
   "cell_type": "code",
   "execution_count": 12,
   "id": "gentle-girlfriend",
   "metadata": {},
   "outputs": [],
   "source": [
    "hi_func = outer_func('Hi')"
   ]
  },
  {
   "cell_type": "code",
   "execution_count": 13,
   "id": "promotional-failure",
   "metadata": {},
   "outputs": [],
   "source": [
    "hello_func = outer_func('Hello')"
   ]
  },
  {
   "cell_type": "code",
   "execution_count": 14,
   "id": "annual-assumption",
   "metadata": {},
   "outputs": [
    {
     "name": "stdout",
     "output_type": "stream",
     "text": [
      "Hi\n"
     ]
    }
   ],
   "source": [
    "hi_func()"
   ]
  },
  {
   "cell_type": "code",
   "execution_count": 15,
   "id": "mineral-hometown",
   "metadata": {},
   "outputs": [
    {
     "name": "stdout",
     "output_type": "stream",
     "text": [
      "Hello\n"
     ]
    }
   ],
   "source": [
    "hello_func()"
   ]
  },
  {
   "cell_type": "markdown",
   "id": "annual-learning",
   "metadata": {},
   "source": [
    "## closure 뜻\n",
    "# Therefore, in simple terms: A closure is an inner function that remembers and has access to variables in the local scope in which it was created even after the outer function has finished executing"
   ]
  },
  {
   "cell_type": "code",
   "execution_count": null,
   "id": "greatest-enemy",
   "metadata": {},
   "outputs": [],
   "source": []
  }
 ],
 "metadata": {
  "kernelspec": {
   "display_name": "kyungjun_dev",
   "language": "python",
   "name": "kyungjun_dev"
  },
  "language_info": {
   "codemirror_mode": {
    "name": "ipython",
    "version": 3
   },
   "file_extension": ".py",
   "mimetype": "text/x-python",
   "name": "python",
   "nbconvert_exporter": "python",
   "pygments_lexer": "ipython3",
   "version": "3.8.7"
  }
 },
 "nbformat": 4,
 "nbformat_minor": 5
}
